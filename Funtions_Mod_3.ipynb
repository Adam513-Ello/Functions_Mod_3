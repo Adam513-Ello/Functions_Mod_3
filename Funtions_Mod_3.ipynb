{
 "cells": [
  {
   "cell_type": "code",
   "execution_count": 14,
   "metadata": {},
   "outputs": [
    {
     "data": {
      "text/plain": [
       "['mozzarella', 'cinderella', 'salmonella']"
      ]
     },
     "execution_count": 14,
     "metadata": {},
     "output_type": "execute_result"
    }
   ],
   "source": [
    "#Author: Adam Elliott\n",
    "#File name: Functions_Mod_3\n",
    "#Purpose: Adding and deleting from list, modifying characters, defining fuctions, and finding items in a list."
   ]
  },
  {
   "cell_type": "code",
   "execution_count": null,
   "metadata": {},
   "outputs": [],
   "source": [
    "#7.4 Make a list called things with these three strings as elements:\n",
    "# \"mozzarella\", \"cinderella\", \"salmonella\".\n",
    "things = ['mozzarella', 'cinderella', 'salmonella']\n",
    "things "
   ]
  },
  {
   "cell_type": "code",
   "execution_count": 59,
   "metadata": {},
   "outputs": [
    {
     "name": "stdout",
     "output_type": "stream",
     "text": [
      "['mozzarella', 'Cinderella', 'salmonella']\n"
     ]
    }
   ],
   "source": [
    "#7.5 Capitalize the element in things that refers to a person and then print the list.\n",
    "# Did it change the element in the list?\n",
    "things = ['mozzarella', 'cinderella', 'salmonella']\n",
    "things = [item.capitalize() if item == 'cinderella' else item for item in things]\n",
    "print(things)\n",
    "#The element did change cinderella now starts with a capital 'C'."
   ]
  },
  {
   "cell_type": "code",
   "execution_count": 65,
   "metadata": {},
   "outputs": [
    {
     "name": "stdout",
     "output_type": "stream",
     "text": [
      "['Mozzarella', 'cinderella', 'salmonella']\n"
     ]
    }
   ],
   "source": [
    "#7.6 Make the cheesy element of things all uppercase and then print the list.\n",
    "things = ['mozzarella', 'cinderella', 'salmonella']\n",
    "things = [item.capitalize() if item == 'mozzarella' else item for item in things]\n",
    "print(things)"
   ]
  },
  {
   "cell_type": "code",
   "execution_count": 75,
   "metadata": {},
   "outputs": [
    {
     "name": "stdout",
     "output_type": "stream",
     "text": [
      "Winner of the Nobel Prize goes to Adam\n",
      "['mozzarella', 'cinderella']\n"
     ]
    }
   ],
   "source": [
    "#Delete the disease element from things, collect your Nobel Prize, and print the list.\n",
    "name= 'Adam'\n",
    "things = ['mozzarella', 'cinderella', 'salmonella']\n",
    "del things[2]\n",
    "print('Winner of the Nobel Prize goes to', name)\n",
    "print(things)"
   ]
  },
  {
   "cell_type": "code",
   "execution_count": 108,
   "metadata": {},
   "outputs": [
    {
     "data": {
      "text/plain": [
       "['Harry', 'Ron', 'Hermione']"
      ]
     },
     "execution_count": 108,
     "metadata": {},
     "output_type": "execute_result"
    }
   ],
   "source": [
    "#9.1 Define a function called good() that returns the following list: ['Harry', 'Ron', 'Hermione'].\n",
    "\n",
    "def good():\n",
    "    good_list = ['Harry', 'Ron', 'Hermione']\n",
    "    return good_list\n",
    "    \n",
    "good()\n"
   ]
  },
  {
   "cell_type": "code",
   "execution_count": 1,
   "metadata": {},
   "outputs": [
    {
     "name": "stdout",
     "output_type": "stream",
     "text": [
      "5\n"
     ]
    }
   ],
   "source": [
    "#9.2 Define a generator function called get_odds() that returns the odd numbers from range(10).\n",
    "# Use a for loop to find and print the third value returned.\n",
    "\n",
    "\n",
    "def get_odds():\n",
    "    number_list=[]\n",
    "    for number in range(10):\n",
    "        if number % 2 == 1:\n",
    "            number_list.append(number)\n",
    "    return number_list\n",
    "\n",
    "        \n",
    "odds = get_odds()\n",
    "for number in range(len(odds)):\n",
    "    if number == 2:\n",
    "        print(odds[number])\n"
   ]
  },
  {
   "cell_type": "code",
   "execution_count": 129,
   "metadata": {},
   "outputs": [
    {
     "data": {
      "text/plain": [
       "[1, 3, 5, 7, 9]"
      ]
     },
     "execution_count": 129,
     "metadata": {},
     "output_type": "execute_result"
    }
   ],
   "source": []
  }
 ],
 "metadata": {
  "kernelspec": {
   "display_name": "base",
   "language": "python",
   "name": "python3"
  },
  "language_info": {
   "codemirror_mode": {
    "name": "ipython",
    "version": 3
   },
   "file_extension": ".py",
   "mimetype": "text/x-python",
   "name": "python",
   "nbconvert_exporter": "python",
   "pygments_lexer": "ipython3",
   "version": "3.12.4"
  }
 },
 "nbformat": 4,
 "nbformat_minor": 2
}
